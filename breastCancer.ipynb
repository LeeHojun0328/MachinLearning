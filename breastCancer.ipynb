{
 "cells": [
  {
   "cell_type": "markdown",
   "metadata": {},
   "source": [
    "\n",
    "$$\n",
    "$$\n",
    "\n",
    "\n",
    "## Contents\n",
    "### 1. Dimension reduction\n",
    "    1.1 Genes that are related to breast cancer\n",
    "### 2. Build an effective classifier\n",
    "### 3. Visualize data\n",
    "\n",
    "Introduction.\n",
    "To help with breast cancer research, I introduce genes related to breast cancer.\n",
    "First, let me introduce the process of selecting genes logically. And I will show through the classifier how good the study is through the selected genes.\n",
    " I will show visually you the results from the classifier."
   ]
  },
  {
   "cell_type": "markdown",
   "metadata": {},
   "source": [
    "## 1. Dimension reduction\n",
    "First, I read patient data. \n",
    "The shape of data was gene x patient.  Therefore, I changed it first to shaping patient x gene. \n",
    "$$\n",
    "$$\n",
    "After chaing data, I added 'grade' column to the patient data. Because I will use supervised classifier, which is need label. \n",
    "The label will tell you what the grade of the data is. \n",
    "$$\n",
    "$$\n",
    "I tried to isolate the data without modifying the data. I used LogisticRegression and SVM to distinguish it. The results were not as good as 0.68, 0.65. \n",
    "$$\n",
    "$$\n",
    "I decided to reduce the dimension first because the result is bad. We have set the two classifiers we used to have the best possible accuracy. And weights of two classifiers that yield optimal accuracy. Only weight with an absolute value greater than 0 was considered to be a gene affecting breast cancer.\n",
    "So I have genes from two classifiers that weighs not zero. The imported genes are genes that exist in common in sets where the weight of two classifiers is not zero."
   ]
  },
  {
   "cell_type": "code",
   "execution_count": 1,
   "metadata": {},
   "outputs": [],
   "source": [
    "from pandas import DataFrame, read_csv\n",
    "import matplotlib.pyplot as plt\n",
    "import pandas as pd\n",
    "import numpy as np\n",
    "import math\n",
    "\n",
    "file = r'./breatcancer_expr.xls'\n",
    "df = pd.read_excel(file, index_col=0)    \n",
    "\n",
    "file = r'./breatcancer_clinical.xls'\n",
    "clinical = pd.read_excel(file, index_col=0) "
   ]
  },
  {
   "cell_type": "code",
   "execution_count": 85,
   "metadata": {},
   "outputs": [],
   "source": [
    "# gene x patient\n",
    "\n",
    "\n",
    "\n",
    "#dfT = pd.transpose(df) # transpose the df =>  patient X gene. \n",
    "dfT = df.T\n",
    "grade = clinical[\"grade\"]\n",
    "patients = dfT.index\n",
    "genes = dfT.columns\n",
    "dfT['grade'] = 0 \n",
    "temp = []\n",
    "for i in range(len(patients)):\n",
    "    if(math.isnan(grade[patients[i]])):\n",
    "        dfT = dfT.drop(patients[i])\n",
    "        temp.append(patients[i])\n",
    "    else:\n",
    "        dfT.loc[patients[i], 'grade'] = grade[patients[i]]\n",
    "\n"
   ]
  },
  {
   "cell_type": "code",
   "execution_count": 4,
   "metadata": {},
   "outputs": [],
   "source": [
    "from sklearn.preprocessing import StandardScaler\n",
    "from sklearn.model_selection import train_test_split\n",
    "\n",
    "X, y = dfT.iloc[:,:19560].values, dfT.iloc[:,19560]\n",
    "\n",
    "X_train, X_test, y_train, y_test = \\\n",
    "    train_test_split(X, y, test_size=0.3, random_state=0)\n",
    "\n",
    "# standardize\n",
    "sc = StandardScaler()\n",
    "X_train_std = sc.fit_transform(X_train)\n",
    "X_test_std = sc.transform(X_test)\n"
   ]
  },
  {
   "cell_type": "code",
   "execution_count": 5,
   "metadata": {},
   "outputs": [
    {
     "name": "stdout",
     "output_type": "stream",
     "text": [
      "Accuracy: 0.68\n"
     ]
    }
   ],
   "source": [
    "from sklearn.linear_model import LogisticRegression\n",
    "\n",
    "lg = LogisticRegression(penalty = 'l1', C=1,  random_state=0, max_iter = 1000)\n",
    "lg.fit(X_train_std, y_train) \n",
    "\n",
    "y_pred = lg.predict(X_test_std)\n",
    "from sklearn.metrics import accuracy_score\n",
    "print('Accuracy: %.2f' % accuracy_score(y_test, y_pred))\n"
   ]
  },
  {
   "cell_type": "code",
   "execution_count": 6,
   "metadata": {},
   "outputs": [
    {
     "name": "stdout",
     "output_type": "stream",
     "text": [
      "Accuracy: 0.65\n"
     ]
    }
   ],
   "source": [
    "from sklearn.svm import SVC\n",
    "\n",
    "svm = SVC(kernel='linear', C=0.01, random_state=0, gamma=0.001)\n",
    "svm.fit(X_train_std, y_train) \n",
    "\n",
    "y_pred = svm.predict(X_test_std)\n",
    "from sklearn.metrics import accuracy_score\n",
    "print('Accuracy: %.2f' % accuracy_score(y_test, y_pred))"
   ]
  },
  {
   "cell_type": "code",
   "execution_count": 7,
   "metadata": {},
   "outputs": [
    {
     "name": "stdout",
     "output_type": "stream",
     "text": [
      "Number of intersection gene  299\n"
     ]
    }
   ],
   "source": [
    "weight = lg.coef_\n",
    "\n",
    "geneIndex = set()\n",
    "\n",
    "for i in range(3):\n",
    "    for j in range(len(weight[0])):\n",
    "        if (np.abs(weight[i][j]) > 0 ):\n",
    "            geneIndex.add(j)\n",
    "\n",
    "weight2 = svm.coef_\n",
    "geneIndex2 = set()\n",
    "\n",
    "for i in range(3):\n",
    "    for j in range(len(weight[0])):\n",
    "        if (np.abs(weight2[i][j]) > 0.0013 ):\n",
    "            geneIndex2.add(j)\n",
    "\n",
    "IntersectionIndex = list(geneIndex.intersection(geneIndex2))\n",
    "IntersectionGene= set()\n",
    "\n",
    "for i in IntersectionIndex:\n",
    "    IntersectionGene.add(genes[i])\n",
    "IntersectionGene = list(IntersectionGene)\n",
    "IntersectionGene.append('grade')\n",
    "print(\"Number of intersection gene \",len(IntersectionGene))\n"
   ]
  },
  {
   "cell_type": "markdown",
   "metadata": {},
   "source": [
    "I have made the selected gene a valid data format for re-learning. The results of the two classifiers are 0.68, 0.68, resulting in slightly better results. Because there are fewer features, similar or better results. However, since the accuracy of the macro is lower than the accuracy of the micro, I thought it necessary to classify it more. So I worked on the above method once again. First, I found a nonzero value for the weight of the two classifiers that give the best value. The number of features has been further reduced to 47."
   ]
  },
  {
   "cell_type": "code",
   "execution_count": 86,
   "metadata": {},
   "outputs": [],
   "source": [
    "newData = dfT.loc[:,IntersectionGene]\n",
    "X, y = newData.iloc[:,:newData.shape[1]-1].values, newData.iloc[:,newData.shape[1]-1]\n",
    "\n",
    "X_train2, X_test2, y_train2, y_test2 = \\\n",
    "    train_test_split(X, y, test_size=0.3, random_state=0)\n",
    "\n",
    "\n",
    "sc2 = StandardScaler()\n",
    "X_train_std2 = sc2.fit_transform(X_train2)\n",
    "X_test_std2 = sc2.transform(X_test2)\n",
    "\n"
   ]
  },
  {
   "cell_type": "code",
   "execution_count": 10,
   "metadata": {},
   "outputs": [
    {
     "name": "stdout",
     "output_type": "stream",
     "text": [
      "Accuracy: 0.68\n",
      "micro: 0.676\n",
      "macro: 0.614\n"
     ]
    }
   ],
   "source": [
    "from sklearn.linear_model import LogisticRegression\n",
    "\n",
    "lg2 = LogisticRegression(penalty = 'l1', C=49,  random_state=0, max_iter = 1000)\n",
    "lg2.fit(X_train_std2, y_train2) \n",
    "\n",
    "y_pred2 = lg2.predict(X_test_std2)\n",
    "from sklearn.metrics import accuracy_score\n",
    "print('Accuracy: %.2f' % accuracy_score(y_test2, y_pred2))\n",
    "from sklearn.metrics import precision_score, recall_score, f1_score\n",
    "\n",
    "print('micro: %.3f' % f1_score(y_true=y_test2, y_pred=y_pred2,average='micro'))\n",
    "print('macro: %.3f' % f1_score(y_true=y_test2, y_pred=y_pred2,average='macro'))"
   ]
  },
  {
   "cell_type": "code",
   "execution_count": 11,
   "metadata": {},
   "outputs": [
    {
     "name": "stdout",
     "output_type": "stream",
     "text": [
      "Accuracy: 0.68\n",
      "micro: 0.676\n",
      "macro: 0.621\n"
     ]
    }
   ],
   "source": [
    "from sklearn.svm import SVC\n",
    "\n",
    "svm2 = SVC(kernel='linear', C=1, random_state=1, gamma=0.001)\n",
    "svm2.fit(X_train_std2, y_train2) \n",
    "\n",
    "y_pred3 = svm2.predict(X_test_std2)\n",
    "from sklearn.metrics import accuracy_score\n",
    "print('Accuracy: %.2f' % accuracy_score(y_test2, y_pred3))\n",
    "print('micro: %.3f' % f1_score(y_true=y_test2, y_pred=y_pred3,average='micro'))\n",
    "print('macro: %.3f' % f1_score(y_true=y_test2, y_pred=y_pred3,average='macro'))"
   ]
  },
  {
   "cell_type": "code",
   "execution_count": 12,
   "metadata": {
    "scrolled": true
   },
   "outputs": [
    {
     "name": "stdout",
     "output_type": "stream",
     "text": [
      "Number of intersection gene  47\n"
     ]
    }
   ],
   "source": [
    "weight2 = lg2.coef_\n",
    "geneIndex = set()\n",
    "for i in range(3):\n",
    "    for j in range(len(weight2[0])):\n",
    "        if (np.abs(weight2[i][j]) > 0 ):\n",
    "            geneIndex.add(j)\n",
    "\n",
    "\n",
    "            \n",
    "weight2 = svm2.coef_\n",
    "geneIndex2 = set()\n",
    "for i in range(3):\n",
    "    for j in range(len(weight2[0])):\n",
    "        if (np.abs(weight2[i][j]) > 0.027):\n",
    "            geneIndex2.add(j)\n",
    "\n",
    "\n",
    "            \n",
    "IntersectionIndex = list(geneIndex.intersection(geneIndex2))\n",
    "IntersectionGene= set()\n",
    "\n",
    "for i in IntersectionIndex:\n",
    "    IntersectionGene.add(genes[i])\n",
    "IntersectionGene = list(IntersectionGene)\n",
    "IntersectionGene.append('grade')\n",
    "print(\"Number of intersection gene \",len(IntersectionGene))\n",
    "\n"
   ]
  },
  {
   "cell_type": "markdown",
   "metadata": {},
   "source": [
    "After re-training with the 47 selected genes, the result was 0.7, 0.66. This result is also good. Because the results of learning with fewer genes than before are similar or better."
   ]
  },
  {
   "cell_type": "code",
   "execution_count": 13,
   "metadata": {},
   "outputs": [
    {
     "name": "stdout",
     "output_type": "stream",
     "text": [
      "newData shape  (246, 91)\n",
      "Accuracy: 0.70\n",
      "micro: 0.703\n",
      "macro: 0.579\n"
     ]
    }
   ],
   "source": [
    "\n",
    "newData = dfT.loc[:,IntersectionGene]\n",
    "print(\"newData shape \",newData.shape)\n",
    "\n",
    "\n",
    "X, y = newData.iloc[:,:newData.shape[1]-1].values, newData.iloc[:,newData.shape[1]-1]\n",
    "X_train3, X_test3, y_train3, y_test3 = \\\n",
    "    train_test_split(X, y, test_size=0.3, random_state=0)\n",
    "\n",
    "sc3 = StandardScaler()\n",
    "X_train_std3 = sc3.fit_transform(X_train3)\n",
    "X_test_std3 = sc3.transform(X_test3)\n",
    "\n",
    "\n",
    "\n",
    "from sklearn.linear_model import LogisticRegression\n",
    "\n",
    "lg3 = LogisticRegression(penalty = 'l1', C=0.2,  random_state=0, max_iter = 1000)\n",
    "lg3.fit(X_train_std3, y_train3) \n",
    "\n",
    "y_pred3 = lg3.predict(X_test_std3)\n",
    "from sklearn.metrics import accuracy_score\n",
    "print('Accuracy: %.2f' % accuracy_score(y_test3, y_pred3))\n",
    "from sklearn.metrics import precision_score, recall_score, f1_score\n",
    "\n",
    "print('micro: %.3f' % f1_score(y_true=y_test3, y_pred=y_pred3,average='micro'))\n",
    "print('macro: %.3f' % f1_score(y_true=y_test3, y_pred=y_pred3,average='macro'))\n"
   ]
  },
  {
   "cell_type": "code",
   "execution_count": 42,
   "metadata": {},
   "outputs": [
    {
     "name": "stdout",
     "output_type": "stream",
     "text": [
      "Accuracy: 0.66\n",
      "micro: 0.662\n",
      "macro: 0.537\n"
     ]
    }
   ],
   "source": [
    "from sklearn.svm import SVC\n",
    "\n",
    "svm3 = SVC(kernel='linear', C=0.02, random_state=1, gamma=0.001)\n",
    "svm3.fit(X_train_std3, y_train3) \n",
    "\n",
    "y_pred3 = svm3.predict(X_test_std3)\n",
    "from sklearn.metrics import accuracy_score\n",
    "print('Accuracy: %.2f' % accuracy_score(y_test3, y_pred3))\n",
    "print('micro: %.3f' % f1_score(y_true=y_test3, y_pred=y_pred3,average='micro'))\n",
    "print('macro: %.3f' % f1_score(y_true=y_test3, y_pred=y_pred3,average='macro'))"
   ]
  },
  {
   "cell_type": "markdown",
   "metadata": {},
   "source": [
    "### 1.1 Genes that are related to breast cancer\n",
    "The below links are explanation about selected genes. The below genes are related to breast cancer\n",
    "\n",
    "ACTR1A : https://www.proteinatlas.org/ENSG00000138107-ACTR1A/pathology\n",
    "$$\n",
    "$$\n",
    "LMAN2 : https://www.proteinatlas.org/ENSG00000169223-LMAN2/pathology\n",
    "$$\n",
    "$$\n",
    "SERP1 https://www.proteinatlas.org/ENSG00000120742-SERP1/pathology\n",
    "$$\n",
    "$$\n",
    "H3F3A https://www.proteinatlas.org/ENSG00000163041-H3F3A/pathology\n",
    "$$\n",
    "$$\n",
    "RPS11 https://www.proteinatlas.org/ENSG00000142534-RPS11/pathology\n",
    "$$\n",
    "$$\n",
    "DDX39B https://www.proteinatlas.org/ENSG00000198563-DDX39B/pathology\n",
    "$$\n",
    "$$\n",
    "ACADVL https://www.proteinatlas.org/ENSG00000072778-ACADVL/pathology\n",
    "$$\n",
    "$$\n",
    "SEC31A https://www.proteinatlas.org/ENSG00000138674-SEC31A/pathology\n",
    "\n",
    "...\n",
    "$$\n",
    "$$\n",
    "..."
   ]
  },
  {
   "cell_type": "code",
   "execution_count": 92,
   "metadata": {},
   "outputs": [
    {
     "data": {
      "text/html": [
       "<div>\n",
       "<style scoped>\n",
       "    .dataframe tbody tr th:only-of-type {\n",
       "        vertical-align: middle;\n",
       "    }\n",
       "\n",
       "    .dataframe tbody tr th {\n",
       "        vertical-align: top;\n",
       "    }\n",
       "\n",
       "    .dataframe thead th {\n",
       "        text-align: right;\n",
       "    }\n",
       "</style>\n",
       "<table border=\"1\" class=\"dataframe\">\n",
       "  <thead>\n",
       "    <tr style=\"text-align: right;\">\n",
       "      <th></th>\n",
       "      <th>0</th>\n",
       "    </tr>\n",
       "  </thead>\n",
       "  <tbody>\n",
       "    <tr>\n",
       "      <th>0</th>\n",
       "      <td>ACTR1A</td>\n",
       "    </tr>\n",
       "    <tr>\n",
       "      <th>1</th>\n",
       "      <td>LMAN2</td>\n",
       "    </tr>\n",
       "    <tr>\n",
       "      <th>2</th>\n",
       "      <td>SERP1</td>\n",
       "    </tr>\n",
       "    <tr>\n",
       "      <th>3</th>\n",
       "      <td>AP002990.1</td>\n",
       "    </tr>\n",
       "    <tr>\n",
       "      <th>4</th>\n",
       "      <td>H3F3A</td>\n",
       "    </tr>\n",
       "    <tr>\n",
       "      <th>5</th>\n",
       "      <td>RPS11</td>\n",
       "    </tr>\n",
       "    <tr>\n",
       "      <th>6</th>\n",
       "      <td>DDX39B</td>\n",
       "    </tr>\n",
       "    <tr>\n",
       "      <th>7</th>\n",
       "      <td>ACADVL</td>\n",
       "    </tr>\n",
       "    <tr>\n",
       "      <th>8</th>\n",
       "      <td>SEC31A</td>\n",
       "    </tr>\n",
       "    <tr>\n",
       "      <th>9</th>\n",
       "      <td>PTP4A1</td>\n",
       "    </tr>\n",
       "    <tr>\n",
       "      <th>10</th>\n",
       "      <td>KARS</td>\n",
       "    </tr>\n",
       "    <tr>\n",
       "      <th>11</th>\n",
       "      <td>RAD21</td>\n",
       "    </tr>\n",
       "    <tr>\n",
       "      <th>12</th>\n",
       "      <td>SSR2</td>\n",
       "    </tr>\n",
       "    <tr>\n",
       "      <th>13</th>\n",
       "      <td>FAU</td>\n",
       "    </tr>\n",
       "    <tr>\n",
       "      <th>14</th>\n",
       "      <td>DNAJA1</td>\n",
       "    </tr>\n",
       "    <tr>\n",
       "      <th>15</th>\n",
       "      <td>AC024293.1</td>\n",
       "    </tr>\n",
       "    <tr>\n",
       "      <th>16</th>\n",
       "      <td>AC120057.2</td>\n",
       "    </tr>\n",
       "    <tr>\n",
       "      <th>17</th>\n",
       "      <td>CALR</td>\n",
       "    </tr>\n",
       "    <tr>\n",
       "      <th>18</th>\n",
       "      <td>EPRS</td>\n",
       "    </tr>\n",
       "    <tr>\n",
       "      <th>19</th>\n",
       "      <td>GDI2</td>\n",
       "    </tr>\n",
       "    <tr>\n",
       "      <th>20</th>\n",
       "      <td>SOD1</td>\n",
       "    </tr>\n",
       "    <tr>\n",
       "      <th>21</th>\n",
       "      <td>RPS27A</td>\n",
       "    </tr>\n",
       "    <tr>\n",
       "      <th>22</th>\n",
       "      <td>HNRNPU</td>\n",
       "    </tr>\n",
       "    <tr>\n",
       "      <th>23</th>\n",
       "      <td>CKB</td>\n",
       "    </tr>\n",
       "    <tr>\n",
       "      <th>24</th>\n",
       "      <td>SRPRA</td>\n",
       "    </tr>\n",
       "    <tr>\n",
       "      <th>25</th>\n",
       "      <td>ATP6V0E1</td>\n",
       "    </tr>\n",
       "    <tr>\n",
       "      <th>26</th>\n",
       "      <td>RPL18AP3</td>\n",
       "    </tr>\n",
       "    <tr>\n",
       "      <th>27</th>\n",
       "      <td>KHDRBS1</td>\n",
       "    </tr>\n",
       "    <tr>\n",
       "      <th>28</th>\n",
       "      <td>SNORA21</td>\n",
       "    </tr>\n",
       "    <tr>\n",
       "      <th>29</th>\n",
       "      <td>RERE</td>\n",
       "    </tr>\n",
       "    <tr>\n",
       "      <th>30</th>\n",
       "      <td>P4HB</td>\n",
       "    </tr>\n",
       "    <tr>\n",
       "      <th>31</th>\n",
       "      <td>AHCYL1</td>\n",
       "    </tr>\n",
       "    <tr>\n",
       "      <th>32</th>\n",
       "      <td>RPL10</td>\n",
       "    </tr>\n",
       "    <tr>\n",
       "      <th>33</th>\n",
       "      <td>DCTN2</td>\n",
       "    </tr>\n",
       "    <tr>\n",
       "      <th>34</th>\n",
       "      <td>MLEC</td>\n",
       "    </tr>\n",
       "    <tr>\n",
       "      <th>35</th>\n",
       "      <td>UBB</td>\n",
       "    </tr>\n",
       "    <tr>\n",
       "      <th>36</th>\n",
       "      <td>CBX3</td>\n",
       "    </tr>\n",
       "    <tr>\n",
       "      <th>37</th>\n",
       "      <td>HYOU1</td>\n",
       "    </tr>\n",
       "    <tr>\n",
       "      <th>38</th>\n",
       "      <td>RPL4</td>\n",
       "    </tr>\n",
       "    <tr>\n",
       "      <th>39</th>\n",
       "      <td>EIF3F</td>\n",
       "    </tr>\n",
       "    <tr>\n",
       "      <th>40</th>\n",
       "      <td>IST1</td>\n",
       "    </tr>\n",
       "    <tr>\n",
       "      <th>41</th>\n",
       "      <td>SSR1</td>\n",
       "    </tr>\n",
       "    <tr>\n",
       "      <th>42</th>\n",
       "      <td>RPS3AP6</td>\n",
       "    </tr>\n",
       "    <tr>\n",
       "      <th>43</th>\n",
       "      <td>ARL6IP5</td>\n",
       "    </tr>\n",
       "    <tr>\n",
       "      <th>44</th>\n",
       "      <td>HDLBP</td>\n",
       "    </tr>\n",
       "    <tr>\n",
       "      <th>45</th>\n",
       "      <td>SNX3</td>\n",
       "    </tr>\n",
       "  </tbody>\n",
       "</table>\n",
       "</div>"
      ],
      "text/plain": [
       "             0\n",
       "0       ACTR1A\n",
       "1        LMAN2\n",
       "2        SERP1\n",
       "3   AP002990.1\n",
       "4        H3F3A\n",
       "5        RPS11\n",
       "6       DDX39B\n",
       "7       ACADVL\n",
       "8       SEC31A\n",
       "9       PTP4A1\n",
       "10        KARS\n",
       "11       RAD21\n",
       "12        SSR2\n",
       "13         FAU\n",
       "14      DNAJA1\n",
       "15  AC024293.1\n",
       "16  AC120057.2\n",
       "17        CALR\n",
       "18        EPRS\n",
       "19        GDI2\n",
       "20        SOD1\n",
       "21      RPS27A\n",
       "22      HNRNPU\n",
       "23         CKB\n",
       "24       SRPRA\n",
       "25    ATP6V0E1\n",
       "26    RPL18AP3\n",
       "27     KHDRBS1\n",
       "28     SNORA21\n",
       "29        RERE\n",
       "30        P4HB\n",
       "31      AHCYL1\n",
       "32       RPL10\n",
       "33       DCTN2\n",
       "34        MLEC\n",
       "35         UBB\n",
       "36        CBX3\n",
       "37       HYOU1\n",
       "38        RPL4\n",
       "39       EIF3F\n",
       "40        IST1\n",
       "41        SSR1\n",
       "42     RPS3AP6\n",
       "43     ARL6IP5\n",
       "44       HDLBP\n",
       "45        SNX3"
      ]
     },
     "execution_count": 92,
     "metadata": {},
     "output_type": "execute_result"
    }
   ],
   "source": [
    "DataFrame(IntersectionGene[:len(IntersectionGene)-1])"
   ]
  },
  {
   "cell_type": "markdown",
   "metadata": {},
   "source": [
    "## 2. Build an effective classifier\n",
    "I used the pca method to better identify the data that affected the breast cancer using the found genes. pca is a method that helps to distinguish data by transforming a fairly large number of genes into smaller dimensions. The reason for using pca is that the macro accuracy is still low. I used pca to help further class distinctions. And it is difficult to use Lda. This is because all features are not normally distributed. and the covariance matrices of individual classes are not identical"
   ]
  },
  {
   "cell_type": "code",
   "execution_count": 56,
   "metadata": {
    "scrolled": true
   },
   "outputs": [
    {
     "data": {
      "text/plain": [
       "50"
      ]
     },
     "execution_count": 56,
     "metadata": {},
     "output_type": "execute_result"
    }
   ],
   "source": [
    "from sklearn.decomposition import PCA\n",
    "\n",
    "pca = PCA(n_components=50)\n",
    "X_train_pca = pca.fit_transform(X_train_std)\n",
    "X_test_pca = pca.transform(X_test_std)\n",
    "len(pca.explained_variance_ratio_)"
   ]
  },
  {
   "cell_type": "code",
   "execution_count": 65,
   "metadata": {},
   "outputs": [
    {
     "data": {
      "image/png": "[encoded data removed]",
      "text/plain": [
       "<Figure size 432x288 with 1 Axes>"
      ]
     },
     "metadata": {},
     "output_type": "display_data"
    }
   ],
   "source": [
    "plt.bar(range(1, 51), pca.explained_variance_ratio_, alpha=0.5, align='center')\n",
    "plt.step(range(1, 51), np.cumsum(pca.explained_variance_ratio_), where='mid')\n",
    "plt.ylabel('Explained variance ratio')\n",
    "plt.xlabel('Principal components')\n",
    "plt.show()"
   ]
  },
  {
   "cell_type": "code",
   "execution_count": 57,
   "metadata": {},
   "outputs": [
    {
     "name": "stdout",
     "output_type": "stream",
     "text": [
      "Accuracy: 0.65\n",
      "micro: 0.649\n",
      "macro: 0.586\n"
     ]
    }
   ],
   "source": [
    "from sklearn.linear_model import LogisticRegression\n",
    "\n",
    "lr = LogisticRegression(penalty='l1',C =100)\n",
    "lr = lr.fit(X_train_pca, y_train3) \n",
    "\n",
    "y_pred3 = lr.predict(X_test_pca)\n",
    "from sklearn.metrics import accuracy_score\n",
    "print('Accuracy: %.2f' % accuracy_score(y_test3, y_pred3))\n",
    "from sklearn.metrics import precision_score, recall_score, f1_score\n",
    "\n",
    "print('micro: %.3f' % f1_score(y_true=y_test3, y_pred=y_pred3,average='micro'))\n",
    "print('macro: %.3f' % f1_score(y_true=y_test3, y_pred=y_pred3,average='macro'))\n",
    "\n",
    "\n"
   ]
  },
  {
   "cell_type": "markdown",
   "metadata": {},
   "source": [
    "However, as you can see from the results above, the macro is still low. I also thought it would be better to use multiple classifiers than to use one classifier to separate data. So I used MajorityVoteClassifier to select the results with the most votes using multiple classifiers. As a result, the accuracy has increased from 0.65, macro: 0.58 to an accuracy of 0.69 and macro: 0.613. The macro value is low, but the difference from accruacy is 0.69-0.613 = 0.067."
   ]
  },
  {
   "cell_type": "code",
   "execution_count": 45,
   "metadata": {},
   "outputs": [],
   "source": [
    "from sklearn.base import BaseEstimator\n",
    "from sklearn.base import ClassifierMixin\n",
    "from sklearn.preprocessing import LabelEncoder\n",
    "from sklearn.externals import six\n",
    "from sklearn.base import clone\n",
    "from sklearn.pipeline import _name_estimators\n",
    "import numpy as np\n",
    "import operator\n",
    "\n",
    "\n",
    "class MajorityVoteClassifier(BaseEstimator, \n",
    "                             ClassifierMixin):\n",
    "    \"\"\" A majority vote ensemble classifier\n",
    "\n",
    "    Parameters\n",
    "    ----------\n",
    "    classifiers : array-like, shape = [n_classifiers]\n",
    "      Different classifiers for the ensemble\n",
    "\n",
    "    vote : str, {'classlabel', 'probability'} (default='label')\n",
    "      If 'classlabel' the prediction is based on the argmax of\n",
    "        class labels. Else if 'probability', the argmax of\n",
    "        the sum of probabilities is used to predict the class label\n",
    "        (recommended for calibrated classifiers).\n",
    "\n",
    "    weights : array-like, shape = [n_classifiers], optional (default=None)\n",
    "      If a list of `int` or `float` values are provided, the classifiers\n",
    "      are weighted by importance; Uses uniform weights if `weights=None`.\n",
    "\n",
    "    \"\"\"\n",
    "    def __init__(self, classifiers, vote='classlabel', weights=None):\n",
    "\n",
    "        self.classifiers = classifiers\n",
    "        self.named_classifiers = {key: value for key, value\n",
    "                                  in _name_estimators(classifiers)}\n",
    "        self.vote = vote\n",
    "        self.weights = weights\n",
    "\n",
    "    def fit(self, X, y):\n",
    "        \"\"\" Fit classifiers.\n",
    "\n",
    "        Parameters\n",
    "        ----------\n",
    "        X : {array-like, sparse matrix}, shape = [n_samples, n_features]\n",
    "            Matrix of training samples.\n",
    "\n",
    "        y : array-like, shape = [n_samples]\n",
    "            Vector of target class labels.\n",
    "\n",
    "        Returns\n",
    "        -------\n",
    "        self : object\n",
    "\n",
    "        \"\"\"\n",
    "        if self.vote not in ('probability', 'classlabel'):\n",
    "            raise ValueError(\"vote must be 'probability' or 'classlabel'\"\n",
    "                             \"; got (vote=%r)\"\n",
    "                             % self.vote)\n",
    "\n",
    "        if self.weights and len(self.weights) != len(self.classifiers):\n",
    "            raise ValueError('Number of classifiers and weights must be equal'\n",
    "                             '; got %d weights, %d classifiers'\n",
    "                             % (len(self.weights), len(self.classifiers)))\n",
    "\n",
    "        # Use LabelEncoder to ensure class labels start with 0, which\n",
    "        # is important for np.argmax call in self.predict\n",
    "        self.lablenc_ = LabelEncoder()\n",
    "        self.lablenc_.fit(y)\n",
    "        self.classes_ = self.lablenc_.classes_\n",
    "        self.classifiers_ = []\n",
    "        for clf in self.classifiers:\n",
    "            fitted_clf = clone(clf).fit(X, self.lablenc_.transform(y))\n",
    "            self.classifiers_.append(fitted_clf)\n",
    "        return self\n",
    "\n",
    "    def predict(self, X):\n",
    "        \"\"\" Predict class labels for X.\n",
    "\n",
    "        Parameters\n",
    "        ----------\n",
    "        X : {array-like, sparse matrix}, shape = [n_samples, n_features]\n",
    "            Matrix of training samples.\n",
    "\n",
    "        Returns\n",
    "        ----------\n",
    "        maj_vote : array-like, shape = [n_samples]\n",
    "            Predicted class labels.\n",
    "            \n",
    "        \"\"\"\n",
    "        if self.vote == 'probability':\n",
    "            maj_vote = np.argmax(self.predict_proba(X), axis=1)\n",
    "        else:  # 'classlabel' vote\n",
    "\n",
    "            #  Collect results from clf.predict calls\n",
    "            predictions = np.asarray([clf.predict(X)\n",
    "                                      for clf in self.classifiers_]).T\n",
    "\n",
    "            maj_vote = np.apply_along_axis(\n",
    "                                      lambda x:\n",
    "                                      np.argmax(np.bincount(x,\n",
    "                                                weights=self.weights)),\n",
    "                                      axis=1,\n",
    "                                      arr=predictions)\n",
    "        maj_vote = self.lablenc_.inverse_transform(maj_vote)\n",
    "        return maj_vote\n",
    "\n",
    "    def predict_proba(self, X):\n",
    "        \"\"\" Predict class probabilities for X.\n",
    "\n",
    "        Parameters\n",
    "        ----------\n",
    "        X : {array-like, sparse matrix}, shape = [n_samples, n_features]\n",
    "            Training vectors, where n_samples is the number of samples and\n",
    "            n_features is the number of features.\n",
    "\n",
    "        Returns\n",
    "        ----------\n",
    "        avg_proba : array-like, shape = [n_samples, n_classes]\n",
    "            Weighted average probability for each class per sample.\n",
    "\n",
    "        \"\"\"\n",
    "        probas = np.asarray([clf.predict_proba(X)\n",
    "                             for clf in self.classifiers_])\n",
    "        avg_proba = np.average(probas, axis=0, weights=self.weights)\n",
    "        return avg_proba\n",
    "\n",
    "    def get_params(self, deep=True):\n",
    "        \"\"\" Get classifier parameter names for GridSearch\"\"\"\n",
    "        if not deep:\n",
    "            return super(MajorityVoteClassifier, self).get_params(deep=False)\n",
    "        else:\n",
    "            out = self.named_classifiers.copy()\n",
    "            for name, step in six.iteritems(self.named_classifiers):\n",
    "                for key, value in six.iteritems(step.get_params(deep=True)):\n",
    "                    out['%s__%s' % (name, key)] = value\n",
    "            return out"
   ]
  },
  {
   "cell_type": "code",
   "execution_count": 61,
   "metadata": {},
   "outputs": [
    {
     "name": "stdout",
     "output_type": "stream",
     "text": [
      "Accuracy: 0.69\n",
      "micro: 0.689\n",
      "macro: 0.613\n"
     ]
    },
    {
     "name": "stderr",
     "output_type": "stream",
     "text": [
      "/anaconda3/lib/python3.6/site-packages/sklearn/preprocessing/label.py:151: DeprecationWarning: The truth value of an empty array is ambiguous. Returning False, but in future this will result in an error. Use `array.size > 0` to check that an array is not empty.\n",
      "  if diff:\n"
     ]
    }
   ],
   "source": [
    "import numpy as np\n",
    "from sklearn.linear_model import LogisticRegression\n",
    "from sklearn.tree import DecisionTreeClassifier\n",
    "from sklearn.neighbors import KNeighborsClassifier \n",
    "from sklearn.pipeline import Pipeline\n",
    "\n",
    "\n",
    "clf1 = LogisticRegression(penalty='l1', \n",
    "                          C=100,\n",
    "                          random_state=0)\n",
    "\n",
    "clf2 = DecisionTreeClassifier(max_depth=1,\n",
    "                              criterion='entropy',\n",
    "                              random_state=0)\n",
    "\n",
    "\n",
    "clf4 =SVC(kernel='linear', C=18, random_state=1, gamma=0.001)\n",
    "\n",
    "pipe1 = Pipeline([['sc', StandardScaler()],\n",
    "                  ['clf', clf1]])\n",
    "\n",
    "pipe4 = Pipeline([['sc', StandardScaler()],\n",
    "                  ['clf', clf4]])\n",
    "\n",
    "mv_clf = MajorityVoteClassifier(classifiers=[pipe1,clf2,pipe4])\n",
    "\n",
    "voting = mv_clf.fit(X_train_pca, y_train) \n",
    "\n",
    "y_pred2 = voting.predict(X_test_pca)\n",
    "from sklearn.metrics import accuracy_score\n",
    "print('Accuracy: %.2f' % accuracy_score(y_test2, y_pred2))\n",
    "from sklearn.metrics import precision_score, recall_score, f1_score\n",
    "\n",
    "print('micro: %.3f' % f1_score(y_true=y_test2, y_pred=y_pred2,average='micro'))\n",
    "print('macro: %.3f' % f1_score(y_true=y_test2, y_pred=y_pred2,average='macro'))"
   ]
  },
  {
   "cell_type": "markdown",
   "metadata": {},
   "source": [
    "##  Visualize data\n",
    "I will explain why I use classifier and pca visually. First of all, the figure below is a picture before processing pca, which shows that the classifier is hard to distinguish the data. But if you look at the next picture, you can see that the data is well-separated by the classifier."
   ]
  },
  {
   "cell_type": "code",
   "execution_count": 87,
   "metadata": {},
   "outputs": [
    {
     "data": {
      "image/png": "[encoded data removed]",
      "text/plain": [
       "<Figure size 432x288 with 1 Axes>"
      ]
     },
     "metadata": {},
     "output_type": "display_data"
    }
   ],
   "source": [
    "from sklearn.cluster import KMeans\n",
    "\n",
    "km = KMeans(n_clusters=3,   # need to specify the number of clusters\n",
    "            init='random', \n",
    "            n_init=10,      # no. instances with random init\n",
    "            max_iter=300,\n",
    "            tol=1e-04)\n",
    "#,\n",
    "#           random_state=0)\n",
    "y_km = km.fit_predict(X_train_std3)\n",
    "\n",
    "plt.scatter(X_train_std3[y_km == 0, 0],\n",
    "            X_train_std3[y_km == 0, 1],\n",
    "            s=50,\n",
    "            c='lightgreen',\n",
    "            marker='s',\n",
    "            label='grade 1')\n",
    "plt.scatter(X_train_std3[y_km == 1, 0],\n",
    "            X_train_std3[y_km == 1, 1],\n",
    "            s=50,\n",
    "            c='orange',\n",
    "            marker='o',\n",
    "            label='grade 2')\n",
    "plt.scatter(X_train_std3[y_km == 2, 0],\n",
    "            X_train_std3[y_km == 2, 1],\n",
    "            s=50,\n",
    "            c='lightblue',\n",
    "            marker='v',\n",
    "            label='grade 3')\n",
    "\n",
    "plt.scatter(km.cluster_centers_[:, 0],\n",
    "            km.cluster_centers_[:, 1],\n",
    "            s=250,\n",
    "            marker='*',\n",
    "            c='red',\n",
    "            label='centroids')\n",
    "plt.legend()\n",
    "plt.grid()\n",
    "plt.tight_layout()\n",
    "#plt.savefig('./figures/centroids.png', dpi=300)\n",
    "plt.show()"
   ]
  },
  {
   "cell_type": "code",
   "execution_count": 82,
   "metadata": {},
   "outputs": [
    {
     "data": {
      "image/png": "[encoded data removed]",
      "text/plain": [
       "<Figure size 432x288 with 1 Axes>"
      ]
     },
     "metadata": {},
     "output_type": "display_data"
    }
   ],
   "source": [
    "from sklearn.cluster import KMeans\n",
    "\n",
    "km = KMeans(n_clusters=3,   # need to specify the number of clusters\n",
    "            init='random', \n",
    "            n_init=10,      # no. instances with random init\n",
    "            max_iter=300,\n",
    "            tol=1e-04)\n",
    "#,\n",
    "#           random_state=0)\n",
    "y_km = km.fit_predict(X_train_pca)\n",
    "\n",
    "plt.scatter(X_train_pca[y_km == 0, 0],\n",
    "            X_train_pca[y_km == 0, 1],\n",
    "            s=50,\n",
    "            c='lightgreen',\n",
    "            marker='s',\n",
    "            label='grade 1')\n",
    "plt.scatter(X_train_pca[y_km == 1, 0],\n",
    "            X_train_pca[y_km == 1, 1],\n",
    "            s=50,\n",
    "            c='orange',\n",
    "            marker='o',\n",
    "            label='grade 2')\n",
    "plt.scatter(X_train_pca[y_km == 2, 0],\n",
    "            X_train_pca[y_km == 2, 1],\n",
    "            s=50,\n",
    "            c='lightblue',\n",
    "            marker='v',\n",
    "            label='grade 3')\n",
    "\n",
    "plt.scatter(km.cluster_centers_[:, 0],\n",
    "            km.cluster_centers_[:, 1],\n",
    "            s=250,\n",
    "            marker='*',\n",
    "            c='red',\n",
    "            label='centroids')\n",
    "plt.legend()\n",
    "plt.grid()\n",
    "plt.tight_layout()\n",
    "#plt.savefig('./figures/centroids.png', dpi=300)\n",
    "plt.show()"
   ]
  },
  {
   "cell_type": "code",
   "execution_count": null,
   "metadata": {},
   "outputs": [],
   "source": []
  }
 ],
 "metadata": {
  "kernelspec": {
   "display_name": "Python 3",
   "language": "python",
   "name": "python3"
  },
  "language_info": {
   "codemirror_mode": {
    "name": "ipython",
    "version": 3
   },
   "file_extension": ".py",
   "mimetype": "text/x-python",
   "name": "python",
   "nbconvert_exporter": "python",
   "pygments_lexer": "ipython3",
   "version": "3.6.5"
  }
 },
 "nbformat": 4,
 "nbformat_minor": 2
}
